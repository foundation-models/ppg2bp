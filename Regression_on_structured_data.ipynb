{
  "nbformat": 4,
  "nbformat_minor": 0,
  "metadata": {
    "colab": {
      "name": "Regression on structured data.ipynb",
      "version": "0.3.2",
      "provenance": [],
      "include_colab_link": true
    },
    "kernelspec": {
      "name": "python3",
      "display_name": "Python 3"
    }
  },
  "cells": [
    {
      "cell_type": "markdown",
      "metadata": {
        "id": "view-in-github",
        "colab_type": "text"
      },
      "source": [
        "<a href=\"https://colab.research.google.com/github/hossein20s/AnExample/blob/master/Regression_on_structured_data.ipynb\" target=\"_parent\"><img src=\"https://colab.research.google.com/assets/colab-badge.svg\" alt=\"Open In Colab\"/></a>"
      ]
    },
    {
      "cell_type": "code",
      "metadata": {
        "id": "J2oDR5kNJalj",
        "colab_type": "code",
        "colab": {}
      },
      "source": [
        ""
      ],
      "execution_count": 0,
      "outputs": []
    },
    {
      "cell_type": "code",
      "metadata": {
        "id": "fEA1ROsVJjGG",
        "colab_type": "code",
        "outputId": "7078ebf6-f7ca-4363-9a01-df5656fb0030",
        "colab": {
          "base_uri": "https://localhost:8080/",
          "height": 765
        }
      },
      "source": [
        "!wget bit.ly/initnotebook -O init.ipynb\n",
        "%run init.ipynb"
      ],
      "execution_count": 10,
      "outputs": [
        {
          "output_type": "stream",
          "text": [
            "--2019-06-26 19:14:49--  http://bit.ly/initnotebook\n",
            "Resolving bit.ly (bit.ly)... 67.199.248.10, 67.199.248.11\n",
            "Connecting to bit.ly (bit.ly)|67.199.248.10|:80... connected.\n",
            "HTTP request sent, awaiting response... 301 Moved Permanently\n",
            "Location: https://raw.githubusercontent.com/hossein20s/notebook_snippets/master/InitializeNotebook.ipynb [following]\n",
            "--2019-06-26 19:14:49--  https://raw.githubusercontent.com/hossein20s/notebook_snippets/master/InitializeNotebook.ipynb\n",
            "Resolving raw.githubusercontent.com (raw.githubusercontent.com)... 151.101.0.133, 151.101.64.133, 151.101.128.133, ...\n",
            "Connecting to raw.githubusercontent.com (raw.githubusercontent.com)|151.101.0.133|:443... connected.\n",
            "HTTP request sent, awaiting response... 200 OK\n",
            "Length: 2746 (2.7K) [text/plain]\n",
            "Saving to: ‘init.ipynb’\n",
            "\n",
            "\rinit.ipynb            0%[                    ]       0  --.-KB/s               \rinit.ipynb          100%[===================>]   2.68K  --.-KB/s    in 0s      \n",
            "\n",
            "2019-06-26 19:14:49 (39.2 MB/s) - ‘init.ipynb’ saved [2746/2746]\n",
            "\n",
            "Drive already mounted at /gdrive; to attempt to forcibly remount, call drive.mount(\"/gdrive\", force_remount=True).\n",
            "ln: failed to create symbolic link 'models/models': Function not implemented\n",
            "ln: failed to create symbolic link 'data/data': Function not implemented\n",
            "ln: failed to create symbolic link 'checkpoints/checkpoints': Function not implemented\n",
            "ln: failed to create symbolic link 'src/src': Function not implemented\n",
            "ln: failed to create symbolic link 'notebooks/Colab Notebooks': Function not implemented\n",
            "fatal: destination path '/content/lib' already exists and is not an empty directory.\n",
            "Already up to date.\n",
            "cloning .....\n",
            "Cloning into 'facets'...\n",
            "remote: Enumerating objects: 139, done.\u001b[K\n",
            "remote: Counting objects: 100% (139/139), done.\u001b[K\n",
            "remote: Compressing objects: 100% (90/90), done.\u001b[K\n",
            "remote: Total 1500 (delta 76), reused 95 (delta 49), pack-reused 1361\u001b[K\n",
            "Receiving objects: 100% (1500/1500), 21.63 MiB | 18.85 MiB/s, done.\n",
            "Resolving deltas: 100% (930/930), done.\n",
            "check if cloned\n",
            "Making directory: /usr/local/share/jupyter/nbextensions/facets-dist/\n",
            "Copying: /content/facets/facets-dist/facets-jupyter.html -> /usr/local/share/jupyter/nbextensions/facets-dist/facets-jupyter.html\n",
            "\n",
            "    To initialize this nbextension in the browser every time the notebook (or other app) loads:\n",
            "    \n",
            "          jupyter nbextension enable <the entry point>\n",
            "    \n",
            "save and load models from yaml and json files defined. Everything stored in folder  <built-in function dir>\n"
          ],
          "name": "stdout"
        }
      ]
    },
    {
      "cell_type": "code",
      "metadata": {
        "id": "GjxB6u4vJy4d",
        "colab_type": "code",
        "colab": {}
      },
      "source": [
        "DATA_FILE = 'data/CHSI/chsi.csv'\n",
        "label_column = 'All_Death'\n",
        "logistic_column = 'Death_Flag'\n",
        "exclude_terms = ['Death', 'ALE']"
      ],
      "execution_count": 0,
      "outputs": []
    },
    {
      "cell_type": "code",
      "metadata": {
        "id": "j3pn5Z2QKE3A",
        "colab_type": "code",
        "outputId": "1ef879ef-867d-4dde-8caf-ff106ff14f36",
        "colab": {
          "base_uri": "https://localhost:8080/",
          "height": 35
        }
      },
      "source": [
        "import pandas as pd\n",
        "import numpy as np\n",
        "\n",
        "df = pd.read_csv(DATA_FILE)\n",
        "print(df.shape)\n"
      ],
      "execution_count": 57,
      "outputs": [
        {
          "output_type": "stream",
          "text": [
            "(3141, 527)\n"
          ],
          "name": "stdout"
        }
      ]
    },
    {
      "cell_type": "code",
      "metadata": {
        "id": "M7ShLZibq504",
        "colab_type": "code",
        "outputId": "0016f985-3bb8-459f-f4b0-89954b7b2a37",
        "colab": {
          "base_uri": "https://localhost:8080/",
          "height": 179
        }
      },
      "source": [
        "import numpy as np\n",
        "from sklearn.impute import SimpleImputer\n",
        "from sklearn.preprocessing import LabelEncoder\n",
        "from numpy.core.defchararray import split\n",
        "\n",
        "imp = SimpleImputer(missing_values=np.nan, strategy='constant', fill_value=0)\n",
        "transformedArray = imp.fit_transform(df)\n",
        "dataframe = pd.DataFrame(transformedArray, index=df.index, columns=df.columns)\n",
        "\n",
        "def splitTimeColumn(df, column_name):\n",
        "  column = dataframe[column_name]\n",
        "  splited = [element.split('-') for element in column]\n",
        "  splited2columns = np.asarray(splited).astype(int).reshape(-1, 2)\n",
        "  df.drop([column_name], axis=1, inplace=True)\n",
        "  df[column_name + '_Start'] = splited2columns[:,0]\n",
        "  df[column_name + '_End'] = splited2columns[:,1]\n",
        "  #print(column_name, dataframe[column_name + '_Start'])\n",
        "\n",
        "splitTimeColumn(dataframe, 'LCD_Time_Span')\n",
        "splitTimeColumn(dataframe, 'ID_Time_Span')\n",
        "splitTimeColumn(dataframe, 'MOBD_Time_Span')\n",
        "splitTimeColumn(dataframe, 'EH_Time_Span')\n",
        "\n",
        "def createBinaryColumn(df, column_name, label_column):\n",
        "  array = df[column_name]\n",
        "  binaryValues = (array > np.mean(array)).astype(int)\n",
        "  df[label_column] = binaryValues\n",
        "\n",
        "createBinaryColumn(dataframe, label_column, logistic_column)\n",
        "\n",
        "#exclude all columns that may cause overfitting\n",
        "#dataframe.filter(like=exclude_term)\n",
        "#excluded_columns = [column for column in dataframe.columns if any(term in exclude_terms) in column ]\n",
        "excluded_columns = []\n",
        "for term in exclude_terms:\n",
        "  print(term)\n",
        "  excluded_columns += [column for column in dataframe.columns if term in column ]\n",
        "#  excluded_columns.appen([column for column in dataframe.columns if term in column])\n",
        "  print(len(excluded_columns))\n",
        "print(dataframe.shape)\n",
        "def removeIfIs(theList, item):\n",
        "  if item in theList: theList.remove(item)\n",
        "removeIfIs(excluded_columns, label_column)\n",
        "print(len(excluded_columns))\n",
        "removeIfIs(excluded_columns, logistic_column)\n",
        "print(len(excluded_columns))\n",
        "dataframe.drop(excluded_columns, axis=1, inplace=True)\n",
        "print(dataframe.shape)\n",
        "#LabelEncoder().fit_transform(dataframe)\n",
        "\n",
        "dataframe.isnull().values.any()\n"
      ],
      "execution_count": 58,
      "outputs": [
        {
          "output_type": "stream",
          "text": [
            "Death\n",
            "7\n",
            "ALE\n",
            "10\n",
            "(3141, 532)\n",
            "9\n",
            "8\n",
            "(3141, 524)\n"
          ],
          "name": "stdout"
        },
        {
          "output_type": "execute_result",
          "data": {
            "text/plain": [
              "False"
            ]
          },
          "metadata": {
            "tags": []
          },
          "execution_count": 58
        }
      ]
    },
    {
      "cell_type": "markdown",
      "metadata": {
        "id": "SSjeP31SN2UD",
        "colab_type": "text"
      },
      "source": [
        "# Use these codes later "
      ]
    },
    {
      "cell_type": "code",
      "metadata": {
        "id": "__hfVImY4slH",
        "colab_type": "code",
        "colab": {}
      },
      "source": [
        "#create label encoders for categorical features\n",
        "from sklearn.preprocessing import LabelEncoder\n",
        "for var in cat_cols:\n",
        "    number = LabelEncoder()\n",
        "    fullData[var] = number.fit_transform(fullData[var].astype('str'))"
      ],
      "execution_count": 0,
      "outputs": []
    },
    {
      "cell_type": "code",
      "metadata": {
        "id": "TRigeoOo5RtB",
        "colab_type": "code",
        "colab": {}
      },
      "source": [
        "#Identifying ID, Categorical\n",
        "ID_col = ['User_ID','Product_ID']\n",
        "flag_col= ['Type']\n",
        "target_col = [\"Purchase\"]\n",
        "cat_cols= ['Gender','Age','City_Category','Stay_In_Current_City_Years']\n",
        "num_cols= list(set(list(fullData.columns))-set(cat_cols)-set(ID_col)-set(target_col)-set(flag_col))\n",
        "# Combined numerical and Categorical variables\n",
        "num_cat_cols = num_cols+cat_cols\n",
        "#Create a new variable for each variable having missing value with VariableName_NA \n",
        "# and flag missing value with 1 and other with 0\n",
        "for var in num_cat_cols:\n",
        "    if fullData[var].isnull().any()==True:\n",
        "        fullData[var+'_NA']=fullData[var].isnull()*1\n",
        "#Impute numerical missing values with mean\n",
        "fullData[num_cols] = fullData[num_cols].fillna(fullData[num_cols].mean())\n",
        "#Impute categorical missing values with -9999\n",
        "fullData[cat_cols] = fullData[cat_cols].fillna(value = -9999)"
      ],
      "execution_count": 0,
      "outputs": []
    },
    {
      "cell_type": "code",
      "metadata": {
        "id": "P09A2CKy46M2",
        "colab_type": "code",
        "colab": {}
      },
      "source": [
        "#Normalize\n",
        "features = list(set(list(fullData.columns))-set(ID_col)-set(target_col))\n",
        "fullData[features] = fullData[features]/fullData[features].max()"
      ],
      "execution_count": 0,
      "outputs": []
    },
    {
      "cell_type": "markdown",
      "metadata": {
        "id": "qHMuYe_hPTHd",
        "colab_type": "text"
      },
      "source": [
        "# Logistic Regresson"
      ]
    },
    {
      "cell_type": "code",
      "metadata": {
        "id": "f3EU0lOWv0Ys",
        "colab_type": "code",
        "colab": {}
      },
      "source": [
        "from sklearn.model_selection import train_test_split\n",
        "\n",
        "feature_train, label_train, feature_test, label_test = train_test_split(\n",
        "    dataframe.drop(columns=[label_column, logistic_column], axis=1), \n",
        "    dataframe[logistic_column],\n",
        "    test_size=0.33, random_state=120)\n"
      ],
      "execution_count": 0,
      "outputs": []
    },
    {
      "cell_type": "code",
      "metadata": {
        "id": "pbrfB_YMzNHS",
        "colab_type": "code",
        "colab": {}
      },
      "source": [
        "from sklearn.linear_model import LogisticRegression\n",
        "\n",
        "model = LogisticRegression()"
      ],
      "execution_count": 0,
      "outputs": []
    },
    {
      "cell_type": "code",
      "metadata": {
        "id": "ogDAJhBP0K1j",
        "colab_type": "code",
        "outputId": "bb7b7f7c-4d4a-40a5-a2f7-aa4c204517ac",
        "colab": {
          "base_uri": "https://localhost:8080/",
          "height": 179
        }
      },
      "source": [
        "model.fit(feature_train, feature_test)"
      ],
      "execution_count": 0,
      "outputs": [
        {
          "output_type": "stream",
          "text": [
            "/usr/local/lib/python3.6/dist-packages/sklearn/linear_model/logistic.py:432: FutureWarning: Default solver will be changed to 'lbfgs' in 0.22. Specify a solver to silence this warning.\n",
            "  FutureWarning)\n",
            "/usr/local/lib/python3.6/dist-packages/sklearn/svm/base.py:929: ConvergenceWarning: Liblinear failed to converge, increase the number of iterations.\n",
            "  \"the number of iterations.\", ConvergenceWarning)\n"
          ],
          "name": "stderr"
        },
        {
          "output_type": "execute_result",
          "data": {
            "text/plain": [
              "LogisticRegression(C=1.0, class_weight=None, dual=False, fit_intercept=True,\n",
              "                   intercept_scaling=1, l1_ratio=None, max_iter=100,\n",
              "                   multi_class='warn', n_jobs=None, penalty='l2',\n",
              "                   random_state=None, solver='warn', tol=0.0001, verbose=0,\n",
              "                   warm_start=False)"
            ]
          },
          "metadata": {
            "tags": []
          },
          "execution_count": 127
        }
      ]
    },
    {
      "cell_type": "code",
      "metadata": {
        "id": "EY0EW9fFgvPA",
        "colab_type": "code",
        "colab": {}
      },
      "source": [
        "predicted = model.predict(label_train)"
      ],
      "execution_count": 0,
      "outputs": []
    },
    {
      "cell_type": "code",
      "metadata": {
        "id": "z_Oq5bvbg_fg",
        "colab_type": "code",
        "outputId": "47328a54-cfd0-4c3e-918c-866247d67d89",
        "colab": {
          "base_uri": "https://localhost:8080/",
          "height": 233
        }
      },
      "source": [
        "from sklearn.metrics import classification_report,confusion_matrix, accuracy_score\n",
        "\n",
        "scores = accuracy_score(label_test, predicted)\n",
        "print('Accuracy Score: ', scores)\n",
        "report = classification_report(label_test, predicted)\n",
        "print(report)\n",
        "confusion = confusion_matrix(label_test, predicted)\n",
        "print(confusion)"
      ],
      "execution_count": 0,
      "outputs": [
        {
          "output_type": "stream",
          "text": [
            "Accuracy Score:  0.8572806171648988\n",
            "              precision    recall  f1-score   support\n",
            "\n",
            "           0       0.84      0.89      0.86       518\n",
            "           1       0.88      0.82      0.85       519\n",
            "\n",
            "    accuracy                           0.86      1037\n",
            "   macro avg       0.86      0.86      0.86      1037\n",
            "weighted avg       0.86      0.86      0.86      1037\n",
            "\n",
            "[[461  57]\n",
            " [ 91 428]]\n"
          ],
          "name": "stdout"
        }
      ]
    },
    {
      "cell_type": "markdown",
      "metadata": {
        "id": "xJCgpA1HkcDc",
        "colab_type": "text"
      },
      "source": [
        "# Regression via Random Forest"
      ]
    },
    {
      "cell_type": "code",
      "metadata": {
        "id": "_Wly8ERpkMLs",
        "colab_type": "code",
        "colab": {}
      },
      "source": [
        "from sklearn.model_selection import train_test_split\n",
        "\n",
        "feature_train, label_train, feature_test, label_test = train_test_split(\n",
        "    dataframe.drop(columns=[label_column, logistic_column], axis=1), \n",
        "    dataframe[label_column],\n",
        "    test_size=0.33, random_state=120)"
      ],
      "execution_count": 0,
      "outputs": []
    },
    {
      "cell_type": "code",
      "metadata": {
        "id": "rabEqYx8knl0",
        "colab_type": "code",
        "outputId": "cb5ddbe2-7393-45a3-fcca-97e383992338",
        "colab": {
          "base_uri": "https://localhost:8080/",
          "height": 35
        }
      },
      "source": [
        "from modelutil import runRandomForestRegressor\n",
        "\n",
        "accuracy, predicted, model = runRandomForestRegressor(feature_train, feature_test)"
      ],
      "execution_count": 30,
      "outputs": [
        {
          "output_type": "stream",
          "text": [
            "Y.shape should be (X,):  (2104,)\n"
          ],
          "name": "stdout"
        }
      ]
    },
    {
      "cell_type": "code",
      "metadata": {
        "id": "bfpHrXJwlk7w",
        "colab_type": "code",
        "outputId": "791a07aa-ae06-4d1c-b0d7-bdb45532e6df",
        "colab": {
          "base_uri": "https://localhost:8080/",
          "height": 323
        }
      },
      "source": [
        "import matplotlib.pyplot as plt\n",
        "\n",
        "print('Accuracy MSE: ', accuracy)\n",
        "\n",
        "print(predicted.shape)\n",
        "print(feature_test.shape)\n",
        "\n",
        "min=300\n",
        "max=500\n",
        "\n",
        "plt.plot(predicted[min:max], 'ro')\n",
        "plt.plot(feature_test.values[min:max], 'b+')\n",
        "plt.show()"
      ],
      "execution_count": 31,
      "outputs": [
        {
          "output_type": "stream",
          "text": [
            "Accuracy MSE:  1063.3646255572355\n",
            "(2104,)\n",
            "(2104,)\n"
          ],
          "name": "stdout"
        },
        {
          "output_type": "display_data",
          "data": {
            "image/png": "[encoded data removed]",
            "text/plain": [
              "<Figure size 432x288 with 1 Axes>"
            ]
          },
          "metadata": {
            "tags": []
          }
        }
      ]
    },
    {
      "cell_type": "code",
      "metadata": {
        "id": "mhamOdpDqiHd",
        "colab_type": "code",
        "outputId": "8df1946a-7f6c-48d6-f215-64f10eb37aa6",
        "colab": {
          "base_uri": "https://localhost:8080/",
          "height": 287
        }
      },
      "source": [
        "predicted_test = model.predict(label_train)\n",
        "\n",
        "plt.plot(predicted_test[min:max], 'ro')\n",
        "plt.plot(label_test.values[min:max], 'b+')"
      ],
      "execution_count": 32,
      "outputs": [
        {
          "output_type": "execute_result",
          "data": {
            "text/plain": [
              "[<matplotlib.lines.Line2D at 0x7fd32ea5fef0>]"
            ]
          },
          "metadata": {
            "tags": []
          },
          "execution_count": 32
        },
        {
          "output_type": "display_data",
          "data": {
            "image/png": "[encoded data removed]",
            "text/plain": [
              "<Figure size 432x288 with 1 Axes>"
            ]
          },
          "metadata": {
            "tags": []
          }
        }
      ]
    },
    {
      "cell_type": "markdown",
      "metadata": {
        "id": "id913qllIpar",
        "colab_type": "text"
      },
      "source": [
        "# ExtraTree model"
      ]
    },
    {
      "cell_type": "code",
      "metadata": {
        "id": "IIwFcgCIItk7",
        "colab_type": "code",
        "colab": {}
      },
      "source": [
        "from sklearn.ensemble import ExtraTreesRegressor\n",
        "\n",
        "model = ExtraTreesRegressor()"
      ],
      "execution_count": 0,
      "outputs": []
    },
    {
      "cell_type": "code",
      "metadata": {
        "id": "DLTcJNGwOevg",
        "colab_type": "code",
        "colab": {
          "base_uri": "https://localhost:8080/",
          "height": 179
        },
        "outputId": "31387c52-43e6-4f62-8cf6-e98ff0cac2b2"
      },
      "source": [
        "model.fit(feature_train, feature_test)"
      ],
      "execution_count": 34,
      "outputs": [
        {
          "output_type": "stream",
          "text": [
            "/usr/local/lib/python3.6/dist-packages/sklearn/ensemble/forest.py:245: FutureWarning: The default value of n_estimators will change from 10 in version 0.20 to 100 in 0.22.\n",
            "  \"10 in version 0.20 to 100 in 0.22.\", FutureWarning)\n"
          ],
          "name": "stderr"
        },
        {
          "output_type": "execute_result",
          "data": {
            "text/plain": [
              "ExtraTreesRegressor(bootstrap=False, criterion='mse', max_depth=None,\n",
              "                    max_features='auto', max_leaf_nodes=None,\n",
              "                    min_impurity_decrease=0.0, min_impurity_split=None,\n",
              "                    min_samples_leaf=1, min_samples_split=2,\n",
              "                    min_weight_fraction_leaf=0.0, n_estimators=10, n_jobs=None,\n",
              "                    oob_score=False, random_state=None, verbose=0,\n",
              "                    warm_start=False)"
            ]
          },
          "metadata": {
            "tags": []
          },
          "execution_count": 34
        }
      ]
    },
    {
      "cell_type": "code",
      "metadata": {
        "id": "oeQCVM_zT9Iu",
        "colab_type": "code",
        "colab": {
          "base_uri": "https://localhost:8080/",
          "height": 269
        },
        "outputId": "0cc4bcd4-9d32-4732-82c3-00d61b4ed2d1"
      },
      "source": [
        "#print(model.feature_importances_) \n",
        "\n",
        "feat_importances = pd.Series(model.feature_importances_, index=feature_train.columns)\n",
        "feat_importances.nlargest(10).plot(kind='barh')\n",
        "plt.show()"
      ],
      "execution_count": 35,
      "outputs": [
        {
          "output_type": "display_data",
          "data": {
            "image/png": "[encoded data removed]",
            "text/plain": [
              "<Figure size 432x288 with 1 Axes>"
            ]
          },
          "metadata": {
            "tags": []
          }
        }
      ]
    }
  ]
}