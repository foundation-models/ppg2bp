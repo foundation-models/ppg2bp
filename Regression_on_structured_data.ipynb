{
  "nbformat": 4,
  "nbformat_minor": 0,
  "metadata": {
    "colab": {
      "name": "Regression on structured data.ipynb",
      "version": "0.3.2",
      "provenance": [],
      "include_colab_link": true
    },
    "kernelspec": {
      "name": "python3",
      "display_name": "Python 3"
    }
  },
  "cells": [
    {
      "cell_type": "markdown",
      "metadata": {
        "id": "view-in-github",
        "colab_type": "text"
      },
      "source": [
        "<a href=\"https://colab.research.google.com/github/hossein20s/AnExample/blob/master/Regression_on_structured_data.ipynb\" target=\"_parent\"><img src=\"https://colab.research.google.com/assets/colab-badge.svg\" alt=\"Open In Colab\"/></a>"
      ]
    },
    {
      "cell_type": "code",
      "metadata": {
        "id": "J2oDR5kNJalj",
        "colab_type": "code",
        "colab": {}
      },
      "source": [
        ""
      ],
      "execution_count": 0,
      "outputs": []
    },
    {
      "cell_type": "code",
      "metadata": {
        "id": "fEA1ROsVJjGG",
        "colab_type": "code",
        "outputId": "059fa6d5-1296-4d62-d0cb-5bd1d45d822f",
        "colab": {
          "base_uri": "https://localhost:8080/",
          "height": 593
        }
      },
      "source": [
        "!wget bit.ly/initnotebook -O init.ipynb\n",
        "%run init.ipynb"
      ],
      "execution_count": 0,
      "outputs": [
        {
          "output_type": "stream",
          "text": [
            "--2019-06-24 19:27:43--  http://bit.ly/initnotebook\n",
            "Resolving bit.ly (bit.ly)... 67.199.248.10, 67.199.248.11\n",
            "Connecting to bit.ly (bit.ly)|67.199.248.10|:80... connected.\n",
            "HTTP request sent, awaiting response... 301 Moved Permanently\n",
            "Location: https://raw.githubusercontent.com/hossein20s/notebook_snippets/master/InitializeNotebook.ipynb [following]\n",
            "--2019-06-24 19:27:44--  https://raw.githubusercontent.com/hossein20s/notebook_snippets/master/InitializeNotebook.ipynb\n",
            "Resolving raw.githubusercontent.com (raw.githubusercontent.com)... 151.101.0.133, 151.101.64.133, 151.101.128.133, ...\n",
            "Connecting to raw.githubusercontent.com (raw.githubusercontent.com)|151.101.0.133|:443... connected.\n",
            "HTTP request sent, awaiting response... 200 OK\n",
            "Length: 2560 (2.5K) [text/plain]\n",
            "Saving to: ‘init.ipynb’\n",
            "\n",
            "init.ipynb          100%[===================>]   2.50K  --.-KB/s    in 0s      \n",
            "\n",
            "2019-06-24 19:27:44 (35.6 MB/s) - ‘init.ipynb’ saved [2560/2560]\n",
            "\n",
            "Go to this URL in a browser: https://accounts.google.com/o/oauth2/auth?client_id=947318989803-6bn6qk8qdgf4n4g3pfee6491hc0brc4i.apps.googleusercontent.com&redirect_uri=urn%3Aietf%3Awg%3Aoauth%3A2.0%3Aoob&scope=email%20https%3A%2F%2Fwww.googleapis.com%2Fauth%2Fdocs.test%20https%3A%2F%2Fwww.googleapis.com%2Fauth%2Fdrive%20https%3A%2F%2Fwww.googleapis.com%2Fauth%2Fdrive.photos.readonly%20https%3A%2F%2Fwww.googleapis.com%2Fauth%2Fpeopleapi.readonly&response_type=code\n",
            "\n",
            "Enter your authorization code:\n",
            "··········\n",
            "Mounted at /gdrive\n",
            "Cloning into '/content/lib'...\n",
            "remote: Enumerating objects: 80, done.\u001b[K\n",
            "remote: Counting objects: 100% (80/80), done.\u001b[K\n",
            "remote: Compressing objects: 100% (76/76), done.\u001b[K\n",
            "remote: Total 385 (delta 50), reused 11 (delta 4), pack-reused 305\u001b[K\n",
            "Receiving objects: 100% (385/385), 86.24 KiB | 1.33 MiB/s, done.\n",
            "Resolving deltas: 100% (239/239), done.\n",
            "Already up to date.\n"
          ],
          "name": "stdout"
        },
        {
          "output_type": "stream",
          "text": [
            "Using TensorFlow backend.\n"
          ],
          "name": "stderr"
        },
        {
          "output_type": "stream",
          "text": [
            "save and load models from yaml and json files defined. Everything stored in folder  <built-in function dir>\n",
            "save and load models from yaml and json files defined. Everything stored in folder  <built-in function dir>\n"
          ],
          "name": "stdout"
        }
      ]
    },
    {
      "cell_type": "code",
      "metadata": {
        "id": "GjxB6u4vJy4d",
        "colab_type": "code",
        "colab": {}
      },
      "source": [
        "DATA_FILE = 'data/CHSI/chsi.csv'\n",
        "label_column = 'All_Death'\n",
        "logistic_column = 'Death_Flag'\n",
        "exclude_term = 'Death'"
      ],
      "execution_count": 0,
      "outputs": []
    },
    {
      "cell_type": "code",
      "metadata": {
        "id": "j3pn5Z2QKE3A",
        "colab_type": "code",
        "outputId": "d6e9ed3c-3c97-4ba1-b452-d62eb38e3d66",
        "colab": {
          "base_uri": "https://localhost:8080/",
          "height": 35
        }
      },
      "source": [
        "import pandas as pd\n",
        "import numpy as np\n",
        "\n",
        "df = pd.read_csv(DATA_FILE)\n",
        "print(df.shape)\n"
      ],
      "execution_count": 0,
      "outputs": [
        {
          "output_type": "stream",
          "text": [
            "(3141, 527)\n"
          ],
          "name": "stdout"
        }
      ]
    },
    {
      "cell_type": "code",
      "metadata": {
        "id": "M7ShLZibq504",
        "colab_type": "code",
        "outputId": "5cd691ba-9763-4c57-ef7c-ced5cd739fca",
        "colab": {
          "base_uri": "https://localhost:8080/",
          "height": 125
        }
      },
      "source": [
        "import numpy as np\n",
        "from sklearn.impute import SimpleImputer\n",
        "from sklearn.preprocessing import LabelEncoder\n",
        "from numpy.core.defchararray import split\n",
        "\n",
        "imp = SimpleImputer(missing_values=np.nan, strategy='constant', fill_value=0)\n",
        "transformedArray = imp.fit_transform(df)\n",
        "dataframe = pd.DataFrame(transformedArray, index=df.index, columns=df.columns)\n",
        "\n",
        "def splitTimeColumn(df, column_name):\n",
        "  column = dataframe[column_name]\n",
        "  splited = [element.split('-') for element in column]\n",
        "  splited2columns = np.asarray(splited).astype(int).reshape(-1, 2)\n",
        "  df.drop([column_name], axis=1, inplace=True)\n",
        "  df[column_name + '_Start'] = splited2columns[:,0]\n",
        "  df[column_name + '_End'] = splited2columns[:,1]\n",
        "  #print(column_name, dataframe[column_name + '_Start'])\n",
        "\n",
        "splitTimeColumn(dataframe, 'LCD_Time_Span')\n",
        "splitTimeColumn(dataframe, 'ID_Time_Span')\n",
        "splitTimeColumn(dataframe, 'MOBD_Time_Span')\n",
        "splitTimeColumn(dataframe, 'EH_Time_Span')\n",
        "\n",
        "def createBinaryColumn(df, column_name, label_column):\n",
        "  array = df[column_name]\n",
        "  binaryValues = (array > np.mean(array)).astype(int)\n",
        "  df[label_column] = binaryValues\n",
        "\n",
        "createBinaryColumn(dataframe, label_column, logistic_column)\n",
        "\n",
        "#exclude all columns that may cause overfitting\n",
        "#dataframe.filter(like=exclude_term)\n",
        "excluded_columns = [column for column in dataframe.columns if exclude_term in column ]\n",
        "print(len(excluded_columns))\n",
        "print(dataframe.shape)\n",
        "def removeIfIs(theList, item):\n",
        "  if item in theList: theList.remove(item)\n",
        "removeIfIs(excluded_columns, label_column)\n",
        "print(len(excluded_columns))\n",
        "removeIfIs(excluded_columns, logistic_column)\n",
        "print(len(excluded_columns))\n",
        "dataframe.drop(excluded_columns, axis=1, inplace=True)\n",
        "print(dataframe.shape)\n",
        "#LabelEncoder().fit_transform(dataframe)\n",
        "\n",
        "dataframe.isnull().values.any()\n"
      ],
      "execution_count": 124,
      "outputs": [
        {
          "output_type": "stream",
          "text": [
            "7\n",
            "(3141, 532)\n",
            "6\n",
            "5\n",
            "(3141, 527)\n"
          ],
          "name": "stdout"
        },
        {
          "output_type": "execute_result",
          "data": {
            "text/plain": [
              "False"
            ]
          },
          "metadata": {
            "tags": []
          },
          "execution_count": 124
        }
      ]
    },
    {
      "cell_type": "code",
      "metadata": {
        "id": "f3EU0lOWv0Ys",
        "colab_type": "code",
        "colab": {}
      },
      "source": [
        "from sklearn.model_selection import train_test_split\n",
        "\n",
        "feature_train, label_train, feature_test, label_test = train_test_split(\n",
        "    dataframe.drop(columns=[label_column, logistic_column], axis=1), \n",
        "    dataframe[logistic_column],\n",
        "    test_size=0.33, random_state=120)\n"
      ],
      "execution_count": 0,
      "outputs": []
    },
    {
      "cell_type": "markdown",
      "metadata": {
        "id": "GuSzRMRZz2hB",
        "colab_type": "text"
      },
      "source": [
        "# Model Selection"
      ]
    },
    {
      "cell_type": "code",
      "metadata": {
        "id": "pbrfB_YMzNHS",
        "colab_type": "code",
        "colab": {}
      },
      "source": [
        "from sklearn.linear_model import LogisticRegression\n",
        "\n",
        "model = LogisticRegression()"
      ],
      "execution_count": 0,
      "outputs": []
    },
    {
      "cell_type": "markdown",
      "metadata": {
        "id": "Qmv01FxW0HDn",
        "colab_type": "text"
      },
      "source": [
        "# Logistic Regression"
      ]
    },
    {
      "cell_type": "code",
      "metadata": {
        "id": "ogDAJhBP0K1j",
        "colab_type": "code",
        "outputId": "bb7b7f7c-4d4a-40a5-a2f7-aa4c204517ac",
        "colab": {
          "base_uri": "https://localhost:8080/",
          "height": 179
        }
      },
      "source": [
        "model.fit(feature_train, feature_test)"
      ],
      "execution_count": 127,
      "outputs": [
        {
          "output_type": "stream",
          "text": [
            "/usr/local/lib/python3.6/dist-packages/sklearn/linear_model/logistic.py:432: FutureWarning: Default solver will be changed to 'lbfgs' in 0.22. Specify a solver to silence this warning.\n",
            "  FutureWarning)\n",
            "/usr/local/lib/python3.6/dist-packages/sklearn/svm/base.py:929: ConvergenceWarning: Liblinear failed to converge, increase the number of iterations.\n",
            "  \"the number of iterations.\", ConvergenceWarning)\n"
          ],
          "name": "stderr"
        },
        {
          "output_type": "execute_result",
          "data": {
            "text/plain": [
              "LogisticRegression(C=1.0, class_weight=None, dual=False, fit_intercept=True,\n",
              "                   intercept_scaling=1, l1_ratio=None, max_iter=100,\n",
              "                   multi_class='warn', n_jobs=None, penalty='l2',\n",
              "                   random_state=None, solver='warn', tol=0.0001, verbose=0,\n",
              "                   warm_start=False)"
            ]
          },
          "metadata": {
            "tags": []
          },
          "execution_count": 127
        }
      ]
    },
    {
      "cell_type": "code",
      "metadata": {
        "id": "EY0EW9fFgvPA",
        "colab_type": "code",
        "colab": {}
      },
      "source": [
        "predicted = model.predict(label_train)"
      ],
      "execution_count": 0,
      "outputs": []
    },
    {
      "cell_type": "code",
      "metadata": {
        "id": "z_Oq5bvbg_fg",
        "colab_type": "code",
        "colab": {
          "base_uri": "https://localhost:8080/",
          "height": 233
        },
        "outputId": "47328a54-cfd0-4c3e-918c-866247d67d89"
      },
      "source": [
        "from sklearn.metrics import classification_report,confusion_matrix, accuracy_score\n",
        "\n",
        "scores = accuracy_score(label_test, predicted)\n",
        "print('Accuracy Score: ', scores)\n",
        "report = classification_report(label_test, predicted)\n",
        "print(report)\n",
        "confusion = confusion_matrix(label_test, predicted)\n",
        "print(confusion)"
      ],
      "execution_count": 129,
      "outputs": [
        {
          "output_type": "stream",
          "text": [
            "Accuracy Score:  0.8572806171648988\n",
            "              precision    recall  f1-score   support\n",
            "\n",
            "           0       0.84      0.89      0.86       518\n",
            "           1       0.88      0.82      0.85       519\n",
            "\n",
            "    accuracy                           0.86      1037\n",
            "   macro avg       0.86      0.86      0.86      1037\n",
            "weighted avg       0.86      0.86      0.86      1037\n",
            "\n",
            "[[461  57]\n",
            " [ 91 428]]\n"
          ],
          "name": "stdout"
        }
      ]
    },
    {
      "cell_type": "markdown",
      "metadata": {
        "id": "xJCgpA1HkcDc",
        "colab_type": "text"
      },
      "source": [
        "# Regression via Random Forest"
      ]
    },
    {
      "cell_type": "code",
      "metadata": {
        "id": "_Wly8ERpkMLs",
        "colab_type": "code",
        "colab": {}
      },
      "source": [
        "feature_train, label_train, feature_test, label_test = train_test_split(\n",
        "    dataframe.drop(columns=[label_column], axis=1), \n",
        "    dataframe[label_column],\n",
        "    test_size=0.33, random_state=120)"
      ],
      "execution_count": 0,
      "outputs": []
    },
    {
      "cell_type": "code",
      "metadata": {
        "id": "rabEqYx8knl0",
        "colab_type": "code",
        "colab": {
          "base_uri": "https://localhost:8080/",
          "height": 35
        },
        "outputId": "56199aac-0cf6-4b56-f427-203ee9c25bd1"
      },
      "source": [
        "from modelutil import runRandomForestRegressor\n",
        "\n",
        "accuracy, predicted, model = runRandomForestRegressor(feature_train, feature_test)"
      ],
      "execution_count": 131,
      "outputs": [
        {
          "output_type": "stream",
          "text": [
            "Y.shape should be (X,):  (2104,)\n"
          ],
          "name": "stdout"
        }
      ]
    },
    {
      "cell_type": "code",
      "metadata": {
        "id": "bfpHrXJwlk7w",
        "colab_type": "code",
        "colab": {
          "base_uri": "https://localhost:8080/",
          "height": 323
        },
        "outputId": "ccdc23c6-4773-4451-e805-cb5bad2e3bf1"
      },
      "source": [
        "import matplotlib.pyplot as plt\n",
        "\n",
        "print('Accuracy MSE: ', accuracy)\n",
        "\n",
        "print(predicted.shape)\n",
        "print(feature_test.shape)\n",
        "\n",
        "min=300\n",
        "max=500\n",
        "\n",
        "plt.plot(predicted[min:max], 'ro')\n",
        "plt.plot(feature_test.values[min:max], 'b+')\n",
        "plt.show()"
      ],
      "execution_count": 138,
      "outputs": [
        {
          "output_type": "stream",
          "text": [
            "Accuracy MSE:  621.9944236548022\n",
            "(2104,)\n",
            "(2104,)\n"
          ],
          "name": "stdout"
        },
        {
          "output_type": "display_data",
          "data": {
            "image/png": "[encoded data removed]",
            "text/plain": [
              "<Figure size 432x288 with 1 Axes>"
            ]
          },
          "metadata": {
            "tags": []
          }
        }
      ]
    },
    {
      "cell_type": "code",
      "metadata": {
        "id": "mhamOdpDqiHd",
        "colab_type": "code",
        "colab": {
          "base_uri": "https://localhost:8080/",
          "height": 287
        },
        "outputId": "fe223a51-0b3a-43a2-b2d9-a239ad6c4f80"
      },
      "source": [
        "predicted_test = model.predict(label_train)\n",
        "\n",
        "plt.plot(predicted_test[min:max], 'ro')\n",
        "plt.plot(label_test.values[min:max], 'b+')"
      ],
      "execution_count": 139,
      "outputs": [
        {
          "output_type": "execute_result",
          "data": {
            "text/plain": [
              "[<matplotlib.lines.Line2D at 0x7f5c97cab898>]"
            ]
          },
          "metadata": {
            "tags": []
          },
          "execution_count": 139
        },
        {
          "output_type": "display_data",
          "data": {
            "image/png": "[encoded data removed]",
            "text/plain": [
              "<Figure size 432x288 with 1 Axes>"
            ]
          },
          "metadata": {
            "tags": []
          }
        }
      ]
    }
  ]
}