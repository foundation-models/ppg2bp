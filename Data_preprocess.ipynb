{
  "nbformat": 4,
  "nbformat_minor": 0,
  "metadata": {
    "colab": {
      "name": "Data preprocess.ipynb",
      "version": "0.3.2",
      "provenance": [],
      "include_colab_link": true
    },
    "kernelspec": {
      "name": "python3",
      "display_name": "Python 3"
    }
  },
  "cells": [
    {
      "cell_type": "markdown",
      "metadata": {
        "id": "view-in-github",
        "colab_type": "text"
      },
      "source": [
        "<a href=\"https://colab.research.google.com/github/hossein20s/AnExample/blob/master/Data_preprocess.ipynb\" target=\"_parent\"><img src=\"https://colab.research.google.com/assets/colab-badge.svg\" alt=\"Open In Colab\"/></a>"
      ]
    },
    {
      "cell_type": "code",
      "metadata": {
        "id": "Hmqx5tRRyAi3",
        "colab_type": "code",
        "colab": {}
      },
      "source": [
        "!wget bit.ly/initnotebook -O init.ipynb\n",
        "%run init.ipynb"
      ],
      "execution_count": 0,
      "outputs": []
    },
    {
      "cell_type": "code",
      "metadata": {
        "id": "D9CXY6CmyfdY",
        "colab_type": "code",
        "outputId": "9100c1ea-47ee-4abf-83ae-d2a1b1f14d43",
        "colab": {
          "base_uri": "https://localhost:8080/",
          "height": 269
        }
      },
      "source": [
        "bucket = getGoogleCloudBucket()\n",
        "!cp data/chsi_dataset.zip .\n",
        "!unzip chsi_dataset.zip"
      ],
      "execution_count": 0,
      "outputs": [
        {
          "output_type": "stream",
          "text": [
            "Archive:  chsi_dataset.zip\n",
            "  inflating: CHSI DataSet.xls        \n",
            "  inflating: DATAELEMENTDESCRIPTION.csv  \n",
            "  inflating: RISKFACTORSANDACCESSTOCARE.csv  \n",
            "  inflating: PREVENTIVESERVICESUSE.csv  \n",
            "  inflating: VUNERABLEPOPSANDENVHEALTH.csv  \n",
            "  inflating: RELATIVEHEALTHIMPORTANCE.csv  \n",
            "  inflating: MEASURESOFBIRTHANDDEATH.csv  \n",
            "  inflating: SUMMARYMEASURESOFHEALTH.csv  \n",
            "  inflating: LEADINGCAUSESOFDEATH.csv  \n",
            "  inflating: DEMOGRAPHICS.csv        \n",
            "  inflating: HEALTHYPEOPLE2010.csv   \n",
            "  inflating: DEFINEDDATAVALUE.csv    \n",
            "  inflating: CSV File Index.txt      \n"
          ],
          "name": "stdout"
        }
      ]
    },
    {
      "cell_type": "code",
      "metadata": {
        "id": "00X-vOEz0M-Y",
        "colab_type": "code",
        "colab": {}
      },
      "source": [
        "!gsutil cp *csv $bucket/data/CHSI/"
      ],
      "execution_count": 0,
      "outputs": []
    },
    {
      "cell_type": "code",
      "metadata": {
        "id": "KrDHPpTf0_T8",
        "colab_type": "code",
        "colab": {}
      },
      "source": [
        "!mkdir data/CHSI\n",
        "!cp *csv data/CHSI"
      ],
      "execution_count": 0,
      "outputs": []
    },
    {
      "cell_type": "markdown",
      "metadata": {
        "id": "rqz8YIT0-E_B",
        "colab_type": "text"
      },
      "source": [
        "# Understanding Data"
      ]
    },
    {
      "cell_type": "code",
      "metadata": {
        "id": "wwq2hU2G-KMf",
        "colab_type": "code",
        "colab": {
          "base_uri": "https://localhost:8080/",
          "height": 243
        },
        "outputId": "e4982528-ded7-4a0b-859c-b37827b9faf9"
      },
      "source": [
        "!ls -l *csv"
      ],
      "execution_count": 10,
      "outputs": [
        {
          "output_type": "stream",
          "text": [
            "-rw-r--r-- 1 root root   88474 Jan 29  2010 DATAELEMENTDESCRIPTION.csv\n",
            "-rw-r--r-- 1 root root     936 Nov 19  2009 DEFINEDDATAVALUE.csv\n",
            "-rw-r--r-- 1 root root  774023 Nov 19  2009 DEMOGRAPHICS.csv\n",
            "-rw-r--r-- 1 root root    1118 Nov 19  2009 HEALTHYPEOPLE2010.csv\n",
            "-rw-r--r-- 1 root root 4048063 Jan 29  2010 LEADINGCAUSESOFDEATH.csv\n",
            "-rw-r--r-- 1 root root 1924270 Nov 19  2009 MEASURESOFBIRTHANDDEATH.csv\n",
            "-rw-r--r-- 1 root root  597811 Nov 19  2009 PREVENTIVESERVICESUSE.csv\n",
            "-rw-r--r-- 1 root root  246554 Nov 19  2009 RELATIVEHEALTHIMPORTANCE.csv\n",
            "-rw-r--r-- 1 root root  507854 Nov 19  2009 RISKFACTORSANDACCESSTOCARE.csv\n",
            "-rw-r--r-- 1 root root  441017 Nov 19  2009 SUMMARYMEASURESOFHEALTH.csv\n",
            "-rw-r--r-- 1 root root  325396 Nov 19  2009 VUNERABLEPOPSANDENVHEALTH.csv\n"
          ],
          "name": "stdout"
        }
      ]
    },
    {
      "cell_type": "code",
      "metadata": {
        "id": "pyyHlIKM-dB_",
        "colab_type": "code",
        "colab": {}
      },
      "source": [
        "import pandas as pd\n",
        "\n",
        "DATA_FILE = 'LEADINGCAUSESOFDEATH.csv'\n",
        "leadingDeathCause = pd.read_csv(DATA_FILE)\n",
        "DATA_FILE = 'DEMOGRAPHICS.csv'\n",
        "demographics = pd.read_csv(DATA_FILE)\n",
        "df = demographics\n",
        "DATA_FILE = 'PREVENTIVESERVICESUSE.csv'\n",
        "preventiveServiceUse = pd.read_csv(DATA_FILE)\n",
        "DATA_FILE = 'HEALTHYPEOPLE2010.csv'\n",
        "healthyPeople = pd.read_csv(DATA_FILE)\n",
        "DATA_FILE = 'MEASURESOFBIRTHANDDEATH.csv'\n",
        "birthDeathMeasure = pd.read_csv(DATA_FILE)"
      ],
      "execution_count": 0,
      "outputs": []
    },
    {
      "cell_type": "code",
      "metadata": {
        "id": "ITIZiAV-_IAu",
        "colab_type": "code",
        "colab": {
          "base_uri": "https://localhost:8080/",
          "height": 392
        },
        "outputId": "85297c18-f5bf-4d00-9b21-ec588a454d14"
      },
      "source": [
        "import numpy \n",
        "print(demographics.shape)\n",
        "print(leadingDeathCause.shape)\n",
        "print(preventiveServiceUse.shape)\n",
        "print(healthyPeople.shape)\n",
        "print(birthDeathMeasure.shape)\n",
        "\n",
        "commonColumns = demographics.columns.intersection(leadingDeathCause.columns) #np.intersect1d(demographics.columns, leadingDeathCause.columns)\n",
        "print(commonColumns)\n",
        "df = demographics\n",
        "df = pd.merge(df, leadingDeathCause, how='outer', left_on=commonColumns.to_list(), right_on=commonColumns.to_list())\n",
        "print(df.shape)\n",
        "commonColumns = df.columns.intersection(preventiveServiceUse.columns)\n",
        "print(commonColumns)\n",
        "df = pd.merge(df, preventiveServiceUse, how='outer', left_on=commonColumns.to_list(), right_on=commonColumns.to_list())\n",
        "\n",
        "display(df.head(2))\n",
        "df.shape"
      ],
      "execution_count": 49,
      "outputs": [
        {
          "output_type": "stream",
          "text": [
            "(3141, 44)\n",
            "(3141, 235)\n",
            "(3141, 43)\n",
            "Index(['State_FIPS_Code', 'County_FIPS_Code', 'CHSI_County_Name',\n",
            "       'CHSI_State_Name', 'CHSI_State_Abbr', 'Strata_ID_Number'],\n",
            "      dtype='object')\n",
            "(3141, 273)\n",
            "Index(['State_FIPS_Code', 'County_FIPS_Code', 'CHSI_County_Name',\n",
            "       'CHSI_State_Name', 'CHSI_State_Abbr', 'Strata_ID_Number'],\n",
            "      dtype='object')\n"
          ],
          "name": "stdout"
        },
        {
          "output_type": "display_data",
          "data": {
            "text/html": [
              "<div>\n",
              "<style scoped>\n",
              "    .dataframe tbody tr th:only-of-type {\n",
              "        vertical-align: middle;\n",
              "    }\n",
              "\n",
              "    .dataframe tbody tr th {\n",
              "        vertical-align: top;\n",
              "    }\n",
              "\n",
              "    .dataframe thead th {\n",
              "        text-align: right;\n",
              "    }\n",
              "</style>\n",
              "<table border=\"1\" class=\"dataframe\">\n",
              "  <thead>\n",
              "    <tr style=\"text-align: right;\">\n",
              "      <th></th>\n",
              "      <th>State_FIPS_Code</th>\n",
              "      <th>County_FIPS_Code</th>\n",
              "      <th>CHSI_County_Name</th>\n",
              "      <th>CHSI_State_Name</th>\n",
              "      <th>CHSI_State_Abbr</th>\n",
              "      <th>Strata_ID_Number</th>\n",
              "      <th>Strata_Determining_Factors</th>\n",
              "      <th>Number_Counties</th>\n",
              "      <th>Population_Size</th>\n",
              "      <th>Min_Population_Size</th>\n",
              "      <th>Max_Population_Size</th>\n",
              "      <th>Population_Density</th>\n",
              "      <th>Min_Population_Density</th>\n",
              "      <th>Max_Population_Density</th>\n",
              "      <th>Poverty</th>\n",
              "      <th>Min_Poverty</th>\n",
              "      <th>Max_Poverty</th>\n",
              "      <th>Age_19_Under</th>\n",
              "      <th>Min_Age_19_Under</th>\n",
              "      <th>Max_Age_19_Under</th>\n",
              "      <th>Age_19_64</th>\n",
              "      <th>Min_Age_19_64</th>\n",
              "      <th>Max_Age_19_65</th>\n",
              "      <th>Age_65_84</th>\n",
              "      <th>Min_Age_65_84</th>\n",
              "      <th>Max_Age_65_85</th>\n",
              "      <th>Age_85_and_Over</th>\n",
              "      <th>Min_Age_85_and_Over</th>\n",
              "      <th>Max_Age_85_and_Over</th>\n",
              "      <th>White</th>\n",
              "      <th>Min_White</th>\n",
              "      <th>Max_White</th>\n",
              "      <th>Black</th>\n",
              "      <th>Min_Black</th>\n",
              "      <th>Max_Black</th>\n",
              "      <th>Native_American</th>\n",
              "      <th>Min_Native_American</th>\n",
              "      <th>Max_Native_American</th>\n",
              "      <th>Asian</th>\n",
              "      <th>Min_Asian</th>\n",
              "      <th>...</th>\n",
              "      <th>CI_Min_F_Hi_Cancer</th>\n",
              "      <th>CI_Max_F_Hi_Cancer</th>\n",
              "      <th>LCD_Time_Span</th>\n",
              "      <th>FluB_Rpt</th>\n",
              "      <th>FluB_Ind</th>\n",
              "      <th>FluB_Exp</th>\n",
              "      <th>HepA_Rpt</th>\n",
              "      <th>HepA_Ind</th>\n",
              "      <th>HepA_Exp</th>\n",
              "      <th>HepB_Rpt</th>\n",
              "      <th>HepB_Ind</th>\n",
              "      <th>HepB_Exp</th>\n",
              "      <th>Meas_Rpt</th>\n",
              "      <th>Meas_Ind</th>\n",
              "      <th>Meas_Exp</th>\n",
              "      <th>Pert_Rpt</th>\n",
              "      <th>Pert_Ind</th>\n",
              "      <th>Pert_Exp</th>\n",
              "      <th>CRS_Rpt</th>\n",
              "      <th>CRS_Ind</th>\n",
              "      <th>CRS_Exp</th>\n",
              "      <th>Syphilis_Rpt</th>\n",
              "      <th>Syphilis_Ind</th>\n",
              "      <th>Syphilis_Exp</th>\n",
              "      <th>ID_Time_Span</th>\n",
              "      <th>Pap_Smear</th>\n",
              "      <th>CI_Min_Pap_Smear</th>\n",
              "      <th>CI_Max_Pap_Smear</th>\n",
              "      <th>Mammogram</th>\n",
              "      <th>CI_Min_Mammogram</th>\n",
              "      <th>CI_Max_Mammogram</th>\n",
              "      <th>Proctoscopy</th>\n",
              "      <th>CI_Min_Proctoscopy</th>\n",
              "      <th>CI_Max_Proctoscopy</th>\n",
              "      <th>Pneumo_Vax</th>\n",
              "      <th>CI_Min_Pneumo_Vax</th>\n",
              "      <th>CI_Max_Pneumo_Vax</th>\n",
              "      <th>Flu_Vac</th>\n",
              "      <th>CI_Min_Flu_Vac</th>\n",
              "      <th>CI_Max_Flu_Vac</th>\n",
              "    </tr>\n",
              "  </thead>\n",
              "  <tbody>\n",
              "    <tr>\n",
              "      <th>0</th>\n",
              "      <td>1</td>\n",
              "      <td>1</td>\n",
              "      <td>Autauga</td>\n",
              "      <td>Alabama</td>\n",
              "      <td>AL</td>\n",
              "      <td>29</td>\n",
              "      <td>frontier status, population size, poverty, age</td>\n",
              "      <td>37</td>\n",
              "      <td>48612</td>\n",
              "      <td>28447</td>\n",
              "      <td>55936</td>\n",
              "      <td>82</td>\n",
              "      <td>40</td>\n",
              "      <td>141</td>\n",
              "      <td>10.4</td>\n",
              "      <td>9.5</td>\n",
              "      <td>12.9</td>\n",
              "      <td>26.9</td>\n",
              "      <td>23.7</td>\n",
              "      <td>32.3</td>\n",
              "      <td>62.3</td>\n",
              "      <td>58.8</td>\n",
              "      <td>64.1</td>\n",
              "      <td>9.8</td>\n",
              "      <td>7.3</td>\n",
              "      <td>12.0</td>\n",
              "      <td>0.9</td>\n",
              "      <td>0.8</td>\n",
              "      <td>2.1</td>\n",
              "      <td>80.7</td>\n",
              "      <td>80.7</td>\n",
              "      <td>98.5</td>\n",
              "      <td>17.3</td>\n",
              "      <td>0.4</td>\n",
              "      <td>17.3</td>\n",
              "      <td>0.5</td>\n",
              "      <td>0.1</td>\n",
              "      <td>1.1</td>\n",
              "      <td>0.6</td>\n",
              "      <td>0.2</td>\n",
              "      <td>...</td>\n",
              "      <td>-1111</td>\n",
              "      <td>-1111</td>\n",
              "      <td>1999-2003</td>\n",
              "      <td>0</td>\n",
              "      <td>3</td>\n",
              "      <td>0</td>\n",
              "      <td>1</td>\n",
              "      <td>3</td>\n",
              "      <td>4</td>\n",
              "      <td>2</td>\n",
              "      <td>3</td>\n",
              "      <td>2</td>\n",
              "      <td>0</td>\n",
              "      <td>3</td>\n",
              "      <td>0</td>\n",
              "      <td>3</td>\n",
              "      <td>3</td>\n",
              "      <td>11</td>\n",
              "      <td>0</td>\n",
              "      <td>3</td>\n",
              "      <td>0</td>\n",
              "      <td>8</td>\n",
              "      <td>4</td>\n",
              "      <td>2</td>\n",
              "      <td>1999-2003</td>\n",
              "      <td>-1111.1</td>\n",
              "      <td>-1111.1</td>\n",
              "      <td>-1111.1</td>\n",
              "      <td>-1111.1</td>\n",
              "      <td>-1111.1</td>\n",
              "      <td>-1111.1</td>\n",
              "      <td>-1111.1</td>\n",
              "      <td>-1111.1</td>\n",
              "      <td>-1111.1</td>\n",
              "      <td>-1111.1</td>\n",
              "      <td>-1111.1</td>\n",
              "      <td>-1111.1</td>\n",
              "      <td>-1111.1</td>\n",
              "      <td>-1111.1</td>\n",
              "      <td>-1111.1</td>\n",
              "    </tr>\n",
              "    <tr>\n",
              "      <th>1</th>\n",
              "      <td>1</td>\n",
              "      <td>3</td>\n",
              "      <td>Baldwin</td>\n",
              "      <td>Alabama</td>\n",
              "      <td>AL</td>\n",
              "      <td>16</td>\n",
              "      <td>frontier status, population size, poverty, age</td>\n",
              "      <td>27</td>\n",
              "      <td>162586</td>\n",
              "      <td>118395</td>\n",
              "      <td>277035</td>\n",
              "      <td>102</td>\n",
              "      <td>39</td>\n",
              "      <td>457</td>\n",
              "      <td>10.2</td>\n",
              "      <td>9.7</td>\n",
              "      <td>12.9</td>\n",
              "      <td>23.5</td>\n",
              "      <td>21.3</td>\n",
              "      <td>25.4</td>\n",
              "      <td>60.3</td>\n",
              "      <td>55.3</td>\n",
              "      <td>62.0</td>\n",
              "      <td>14.5</td>\n",
              "      <td>11.8</td>\n",
              "      <td>19.5</td>\n",
              "      <td>1.8</td>\n",
              "      <td>1.9</td>\n",
              "      <td>3.4</td>\n",
              "      <td>88.4</td>\n",
              "      <td>83.5</td>\n",
              "      <td>96.3</td>\n",
              "      <td>9.9</td>\n",
              "      <td>1.0</td>\n",
              "      <td>14.1</td>\n",
              "      <td>0.5</td>\n",
              "      <td>0.1</td>\n",
              "      <td>1.1</td>\n",
              "      <td>0.4</td>\n",
              "      <td>0.4</td>\n",
              "      <td>...</td>\n",
              "      <td>-1111</td>\n",
              "      <td>-1111</td>\n",
              "      <td>2001-2003</td>\n",
              "      <td>0</td>\n",
              "      <td>3</td>\n",
              "      <td>4</td>\n",
              "      <td>2</td>\n",
              "      <td>3</td>\n",
              "      <td>22</td>\n",
              "      <td>17</td>\n",
              "      <td>4</td>\n",
              "      <td>9</td>\n",
              "      <td>0</td>\n",
              "      <td>3</td>\n",
              "      <td>0</td>\n",
              "      <td>0</td>\n",
              "      <td>3</td>\n",
              "      <td>27</td>\n",
              "      <td>0</td>\n",
              "      <td>3</td>\n",
              "      <td>0</td>\n",
              "      <td>0</td>\n",
              "      <td>3</td>\n",
              "      <td>4</td>\n",
              "      <td>2001-2003</td>\n",
              "      <td>86.1</td>\n",
              "      <td>81.3</td>\n",
              "      <td>90.9</td>\n",
              "      <td>82.0</td>\n",
              "      <td>74.4</td>\n",
              "      <td>89.6</td>\n",
              "      <td>44.1</td>\n",
              "      <td>37.2</td>\n",
              "      <td>51.1</td>\n",
              "      <td>58.7</td>\n",
              "      <td>50.8</td>\n",
              "      <td>66.6</td>\n",
              "      <td>61.8</td>\n",
              "      <td>54.1</td>\n",
              "      <td>69.4</td>\n",
              "    </tr>\n",
              "  </tbody>\n",
              "</table>\n",
              "<p>2 rows × 310 columns</p>\n",
              "</div>"
            ],
            "text/plain": [
              "   State_FIPS_Code  County_FIPS_Code  ... CI_Min_Flu_Vac CI_Max_Flu_Vac\n",
              "0                1                 1  ...        -1111.1        -1111.1\n",
              "1                1                 3  ...           54.1           69.4\n",
              "\n",
              "[2 rows x 310 columns]"
            ]
          },
          "metadata": {
            "tags": []
          }
        },
        {
          "output_type": "execute_result",
          "data": {
            "text/plain": [
              "(3141, 310)"
            ]
          },
          "metadata": {
            "tags": []
          },
          "execution_count": 49
        }
      ]
    }
  ]
}