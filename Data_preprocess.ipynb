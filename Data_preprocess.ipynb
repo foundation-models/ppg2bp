{
  "nbformat": 4,
  "nbformat_minor": 0,
  "metadata": {
    "colab": {
      "name": "Data preprocess.ipynb",
      "version": "0.3.2",
      "provenance": [],
      "include_colab_link": true
    },
    "kernelspec": {
      "name": "python3",
      "display_name": "Python 3"
    }
  },
  "cells": [
    {
      "cell_type": "markdown",
      "metadata": {
        "id": "view-in-github",
        "colab_type": "text"
      },
      "source": [
        "<a href=\"https://colab.research.google.com/github/hossein20s/AnExample/blob/master/Data_preprocess.ipynb\" target=\"_parent\"><img src=\"https://colab.research.google.com/assets/colab-badge.svg\" alt=\"Open In Colab\"/></a>"
      ]
    },
    {
      "cell_type": "code",
      "metadata": {
        "id": "Hmqx5tRRyAi3",
        "colab_type": "code",
        "colab": {}
      },
      "source": [
        "!wget bit.ly/initnotebook -O init.ipynb\n",
        "%run init.ipynb"
      ],
      "execution_count": 0,
      "outputs": []
    },
    {
      "cell_type": "code",
      "metadata": {
        "id": "D9CXY6CmyfdY",
        "colab_type": "code",
        "outputId": "9100c1ea-47ee-4abf-83ae-d2a1b1f14d43",
        "colab": {
          "base_uri": "https://localhost:8080/",
          "height": 269
        }
      },
      "source": [
        "bucket = getGoogleCloudBucket()\n",
        "!cp data/chsi_dataset.zip .\n",
        "!unzip chsi_dataset.zip"
      ],
      "execution_count": 0,
      "outputs": [
        {
          "output_type": "stream",
          "text": [
            "Archive:  chsi_dataset.zip\n",
            "  inflating: CHSI DataSet.xls        \n",
            "  inflating: DATAELEMENTDESCRIPTION.csv  \n",
            "  inflating: RISKFACTORSANDACCESSTOCARE.csv  \n",
            "  inflating: PREVENTIVESERVICESUSE.csv  \n",
            "  inflating: VUNERABLEPOPSANDENVHEALTH.csv  \n",
            "  inflating: RELATIVEHEALTHIMPORTANCE.csv  \n",
            "  inflating: MEASURESOFBIRTHANDDEATH.csv  \n",
            "  inflating: SUMMARYMEASURESOFHEALTH.csv  \n",
            "  inflating: LEADINGCAUSESOFDEATH.csv  \n",
            "  inflating: DEMOGRAPHICS.csv        \n",
            "  inflating: HEALTHYPEOPLE2010.csv   \n",
            "  inflating: DEFINEDDATAVALUE.csv    \n",
            "  inflating: CSV File Index.txt      \n"
          ],
          "name": "stdout"
        }
      ]
    },
    {
      "cell_type": "code",
      "metadata": {
        "id": "00X-vOEz0M-Y",
        "colab_type": "code",
        "colab": {}
      },
      "source": [
        "!gsutil cp *csv $bucket/data/CHSI/"
      ],
      "execution_count": 0,
      "outputs": []
    },
    {
      "cell_type": "code",
      "metadata": {
        "id": "KrDHPpTf0_T8",
        "colab_type": "code",
        "colab": {}
      },
      "source": [
        "!mkdir data/CHSI\n",
        "!cp *csv data/CHSI"
      ],
      "execution_count": 0,
      "outputs": []
    },
    {
      "cell_type": "markdown",
      "metadata": {
        "id": "rqz8YIT0-E_B",
        "colab_type": "text"
      },
      "source": [
        "# Understanding Data"
      ]
    },
    {
      "cell_type": "code",
      "metadata": {
        "id": "wwq2hU2G-KMf",
        "colab_type": "code",
        "colab": {
          "base_uri": "https://localhost:8080/",
          "height": 243
        },
        "outputId": "e4982528-ded7-4a0b-859c-b37827b9faf9"
      },
      "source": [
        "!ls -l *csv"
      ],
      "execution_count": 10,
      "outputs": [
        {
          "output_type": "stream",
          "text": [
            "-rw-r--r-- 1 root root   88474 Jan 29  2010 DATAELEMENTDESCRIPTION.csv\n",
            "-rw-r--r-- 1 root root     936 Nov 19  2009 DEFINEDDATAVALUE.csv\n",
            "-rw-r--r-- 1 root root  774023 Nov 19  2009 DEMOGRAPHICS.csv\n",
            "-rw-r--r-- 1 root root    1118 Nov 19  2009 HEALTHYPEOPLE2010.csv\n",
            "-rw-r--r-- 1 root root 4048063 Jan 29  2010 LEADINGCAUSESOFDEATH.csv\n",
            "-rw-r--r-- 1 root root 1924270 Nov 19  2009 MEASURESOFBIRTHANDDEATH.csv\n",
            "-rw-r--r-- 1 root root  597811 Nov 19  2009 PREVENTIVESERVICESUSE.csv\n",
            "-rw-r--r-- 1 root root  246554 Nov 19  2009 RELATIVEHEALTHIMPORTANCE.csv\n",
            "-rw-r--r-- 1 root root  507854 Nov 19  2009 RISKFACTORSANDACCESSTOCARE.csv\n",
            "-rw-r--r-- 1 root root  441017 Nov 19  2009 SUMMARYMEASURESOFHEALTH.csv\n",
            "-rw-r--r-- 1 root root  325396 Nov 19  2009 VUNERABLEPOPSANDENVHEALTH.csv\n"
          ],
          "name": "stdout"
        }
      ]
    },
    {
      "cell_type": "code",
      "metadata": {
        "id": "pyyHlIKM-dB_",
        "colab_type": "code",
        "colab": {}
      },
      "source": [
        "import pandas as pd\n",
        "\n",
        "DATA_FILE = 'LEADINGCAUSESOFDEATH.csv'\n",
        "leadingDeathCause = pd.read_csv(DATA_FILE)\n",
        "DATA_FILE = 'DEMOGRAPHICS.csv'\n",
        "demographics = pd.read_csv(DATA_FILE)\n",
        "df = demographics"
      ],
      "execution_count": 0,
      "outputs": []
    },
    {
      "cell_type": "code",
      "metadata": {
        "id": "ITIZiAV-_IAu",
        "colab_type": "code",
        "colab": {
          "base_uri": "https://localhost:8080/",
          "height": 647
        },
        "outputId": "f8abf4ed-bffc-4da3-c484-decd35addb56"
      },
      "source": [
        "import numpy as np\n",
        "\n",
        "print(df.shape)\n",
        "display(df.columns)\n",
        "commonColumns = np.intersect1d(demographics.columns, leadingDeathCause.columns)\n",
        "print(commonColumns)\n",
        "df = pd.merge(demographics, leadingDeathCause, how='left', left_on=commonColumns)\n",
        "display(df.head(2))\n",
        "df.shape"
      ],
      "execution_count": 30,
      "outputs": [
        {
          "output_type": "stream",
          "text": [
            "(303063, 278)\n"
          ],
          "name": "stdout"
        },
        {
          "output_type": "display_data",
          "data": {
            "text/plain": [
              "Index(['State_FIPS_Code_x', 'County_FIPS_Code_x', 'CHSI_County_Name_x',\n",
              "       'CHSI_State_Name', 'CHSI_State_Abbr_x', 'Strata_ID_Number_x',\n",
              "       'Strata_Determining_Factors', 'Number_Counties', 'Population_Size',\n",
              "       'Min_Population_Size',\n",
              "       ...\n",
              "       'F_Bl_Cancer', 'CI_Min_F_Bl_Cancer', 'CI_Max_F_Bl_Cancer',\n",
              "       'F_Ot_Cancer', 'CI_Min_F_Ot_Cancer', 'CI_Max_F_Ot_Cancer',\n",
              "       'F_Hi_Cancer', 'CI_Min_F_Hi_Cancer', 'CI_Max_F_Hi_Cancer',\n",
              "       'LCD_Time_Span'],\n",
              "      dtype='object', length=278)"
            ]
          },
          "metadata": {
            "tags": []
          }
        },
        {
          "output_type": "stream",
          "text": [
            "['CHSI_County_Name' 'CHSI_State_Abbr' 'CHSI_State_Name' 'County_FIPS_Code'\n",
            " 'State_FIPS_Code' 'Strata_ID_Number']\n"
          ],
          "name": "stdout"
        },
        {
          "output_type": "error",
          "ename": "TypeError",
          "evalue": "ignored",
          "traceback": [
            "\u001b[0;31m---------------------------------------------------------------------------\u001b[0m",
            "\u001b[0;31mTypeError\u001b[0m                                 Traceback (most recent call last)",
            "\u001b[0;32m<ipython-input-30-6d1cf356a435>\u001b[0m in \u001b[0;36m<module>\u001b[0;34m()\u001b[0m\n\u001b[1;32m      5\u001b[0m \u001b[0mcommonColumns\u001b[0m \u001b[0;34m=\u001b[0m \u001b[0mnp\u001b[0m\u001b[0;34m.\u001b[0m\u001b[0mintersect1d\u001b[0m\u001b[0;34m(\u001b[0m\u001b[0mdemographics\u001b[0m\u001b[0;34m.\u001b[0m\u001b[0mcolumns\u001b[0m\u001b[0;34m,\u001b[0m \u001b[0mleadingDeathCause\u001b[0m\u001b[0;34m.\u001b[0m\u001b[0mcolumns\u001b[0m\u001b[0;34m)\u001b[0m\u001b[0;34m\u001b[0m\u001b[0;34m\u001b[0m\u001b[0m\n\u001b[1;32m      6\u001b[0m \u001b[0mprint\u001b[0m\u001b[0;34m(\u001b[0m\u001b[0mcommonColumns\u001b[0m\u001b[0;34m)\u001b[0m\u001b[0;34m\u001b[0m\u001b[0;34m\u001b[0m\u001b[0m\n\u001b[0;32m----> 7\u001b[0;31m \u001b[0mdf\u001b[0m \u001b[0;34m=\u001b[0m \u001b[0mpd\u001b[0m\u001b[0;34m.\u001b[0m\u001b[0mmerge\u001b[0m\u001b[0;34m(\u001b[0m\u001b[0mdemographics\u001b[0m\u001b[0;34m,\u001b[0m \u001b[0mleadingDeathCause\u001b[0m\u001b[0;34m,\u001b[0m \u001b[0mhow\u001b[0m\u001b[0;34m=\u001b[0m\u001b[0;34m'left'\u001b[0m\u001b[0;34m,\u001b[0m \u001b[0mleft_on\u001b[0m\u001b[0;34m=\u001b[0m\u001b[0mcommonColumns\u001b[0m\u001b[0;34m)\u001b[0m\u001b[0;34m\u001b[0m\u001b[0;34m\u001b[0m\u001b[0m\n\u001b[0m\u001b[1;32m      8\u001b[0m \u001b[0mdisplay\u001b[0m\u001b[0;34m(\u001b[0m\u001b[0mdf\u001b[0m\u001b[0;34m.\u001b[0m\u001b[0mhead\u001b[0m\u001b[0;34m(\u001b[0m\u001b[0;36m2\u001b[0m\u001b[0;34m)\u001b[0m\u001b[0;34m)\u001b[0m\u001b[0;34m\u001b[0m\u001b[0;34m\u001b[0m\u001b[0m\n\u001b[1;32m      9\u001b[0m \u001b[0mdf\u001b[0m\u001b[0;34m.\u001b[0m\u001b[0mshape\u001b[0m\u001b[0;34m\u001b[0m\u001b[0;34m\u001b[0m\u001b[0m\n",
            "\u001b[0;32m/usr/local/lib/python3.6/dist-packages/pandas/core/reshape/merge.py\u001b[0m in \u001b[0;36mmerge\u001b[0;34m(left, right, how, on, left_on, right_on, left_index, right_index, sort, suffixes, copy, indicator, validate)\u001b[0m\n\u001b[1;32m     45\u001b[0m                          \u001b[0mright_index\u001b[0m\u001b[0;34m=\u001b[0m\u001b[0mright_index\u001b[0m\u001b[0;34m,\u001b[0m \u001b[0msort\u001b[0m\u001b[0;34m=\u001b[0m\u001b[0msort\u001b[0m\u001b[0;34m,\u001b[0m \u001b[0msuffixes\u001b[0m\u001b[0;34m=\u001b[0m\u001b[0msuffixes\u001b[0m\u001b[0;34m,\u001b[0m\u001b[0;34m\u001b[0m\u001b[0;34m\u001b[0m\u001b[0m\n\u001b[1;32m     46\u001b[0m                          \u001b[0mcopy\u001b[0m\u001b[0;34m=\u001b[0m\u001b[0mcopy\u001b[0m\u001b[0;34m,\u001b[0m \u001b[0mindicator\u001b[0m\u001b[0;34m=\u001b[0m\u001b[0mindicator\u001b[0m\u001b[0;34m,\u001b[0m\u001b[0;34m\u001b[0m\u001b[0;34m\u001b[0m\u001b[0m\n\u001b[0;32m---> 47\u001b[0;31m                          validate=validate)\n\u001b[0m\u001b[1;32m     48\u001b[0m     \u001b[0;32mreturn\u001b[0m \u001b[0mop\u001b[0m\u001b[0;34m.\u001b[0m\u001b[0mget_result\u001b[0m\u001b[0;34m(\u001b[0m\u001b[0;34m)\u001b[0m\u001b[0;34m\u001b[0m\u001b[0;34m\u001b[0m\u001b[0m\n\u001b[1;32m     49\u001b[0m \u001b[0;34m\u001b[0m\u001b[0m\n",
            "\u001b[0;32m/usr/local/lib/python3.6/dist-packages/pandas/core/reshape/merge.py\u001b[0m in \u001b[0;36m__init__\u001b[0;34m(self, left, right, how, on, left_on, right_on, axis, left_index, right_index, sort, suffixes, copy, indicator, validate)\u001b[0m\n\u001b[1;32m    522\u001b[0m             \u001b[0mwarnings\u001b[0m\u001b[0;34m.\u001b[0m\u001b[0mwarn\u001b[0m\u001b[0;34m(\u001b[0m\u001b[0mmsg\u001b[0m\u001b[0;34m,\u001b[0m \u001b[0mUserWarning\u001b[0m\u001b[0;34m)\u001b[0m\u001b[0;34m\u001b[0m\u001b[0;34m\u001b[0m\u001b[0m\n\u001b[1;32m    523\u001b[0m \u001b[0;34m\u001b[0m\u001b[0m\n\u001b[0;32m--> 524\u001b[0;31m         \u001b[0mself\u001b[0m\u001b[0;34m.\u001b[0m\u001b[0m_validate_specification\u001b[0m\u001b[0;34m(\u001b[0m\u001b[0;34m)\u001b[0m\u001b[0;34m\u001b[0m\u001b[0;34m\u001b[0m\u001b[0m\n\u001b[0m\u001b[1;32m    525\u001b[0m \u001b[0;34m\u001b[0m\u001b[0m\n\u001b[1;32m    526\u001b[0m         \u001b[0;31m# note this function has side effects\u001b[0m\u001b[0;34m\u001b[0m\u001b[0;34m\u001b[0m\u001b[0;34m\u001b[0m\u001b[0m\n",
            "\u001b[0;32m/usr/local/lib/python3.6/dist-packages/pandas/core/reshape/merge.py\u001b[0m in \u001b[0;36m_validate_specification\u001b[0;34m(self)\u001b[0m\n\u001b[1;32m   1055\u001b[0m                                      'of levels in the index of \"left\"')\n\u001b[1;32m   1056\u001b[0m                 \u001b[0mself\u001b[0m\u001b[0;34m.\u001b[0m\u001b[0mleft_on\u001b[0m \u001b[0;34m=\u001b[0m \u001b[0;34m[\u001b[0m\u001b[0;32mNone\u001b[0m\u001b[0;34m]\u001b[0m \u001b[0;34m*\u001b[0m \u001b[0mn\u001b[0m\u001b[0;34m\u001b[0m\u001b[0;34m\u001b[0m\u001b[0m\n\u001b[0;32m-> 1057\u001b[0;31m         \u001b[0;32mif\u001b[0m \u001b[0mlen\u001b[0m\u001b[0;34m(\u001b[0m\u001b[0mself\u001b[0m\u001b[0;34m.\u001b[0m\u001b[0mright_on\u001b[0m\u001b[0;34m)\u001b[0m \u001b[0;34m!=\u001b[0m \u001b[0mlen\u001b[0m\u001b[0;34m(\u001b[0m\u001b[0mself\u001b[0m\u001b[0;34m.\u001b[0m\u001b[0mleft_on\u001b[0m\u001b[0;34m)\u001b[0m\u001b[0;34m:\u001b[0m\u001b[0;34m\u001b[0m\u001b[0;34m\u001b[0m\u001b[0m\n\u001b[0m\u001b[1;32m   1058\u001b[0m             \u001b[0;32mraise\u001b[0m \u001b[0mValueError\u001b[0m\u001b[0;34m(\u001b[0m\u001b[0;34m\"len(right_on) must equal len(left_on)\"\u001b[0m\u001b[0;34m)\u001b[0m\u001b[0;34m\u001b[0m\u001b[0;34m\u001b[0m\u001b[0m\n\u001b[1;32m   1059\u001b[0m \u001b[0;34m\u001b[0m\u001b[0m\n",
            "\u001b[0;31mTypeError\u001b[0m: object of type 'NoneType' has no len()"
          ]
        }
      ]
    }
  ]
}