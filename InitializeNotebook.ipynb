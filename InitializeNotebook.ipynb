{
  "nbformat": 4,
  "nbformat_minor": 0,
  "metadata": {
    "colab": {
      "name": "InitializeNotebook.ipynb",
      "version": "0.3.2",
      "provenance": [],
      "include_colab_link": true
    },
    "kernelspec": {
      "name": "python3",
      "display_name": "Python 3"
    }
  },
  "cells": [
    {
      "cell_type": "markdown",
      "metadata": {
        "id": "view-in-github",
        "colab_type": "text"
      },
      "source": [
        "<a href=\"https://colab.research.google.com/github/hossein20s/AnExample/blob/master/InitializeNotebook.ipynb\" target=\"_parent\"><img src=\"https://colab.research.google.com/assets/colab-badge.svg\" alt=\"Open In Colab\"/></a>"
      ]
    },
    {
      "cell_type": "code",
      "metadata": {
        "id": "fpAXG1J8T95k",
        "colab_type": "code",
        "colab": {}
      },
      "source": [
        "from google.colab import drive\n",
        "drive.mount('/gdrive')\n",
        "!ln -s \"/gdrive/My Drive/models\" models\n",
        "!ln -s \"/gdrive/My Drive/data\" data\n",
        "!ln -s \"/gdrive/My Drive/checkpoints\" checkpoints\n",
        "!ln -s \"/gdrive/My Drive/src\" src\n",
        "!ln -s \"/gdrive/My Drive/Colab Notebooks\" notebooks"
      ],
      "execution_count": 0,
      "outputs": []
    },
    {
      "cell_type": "code",
      "metadata": {
        "id": "hBpxwR8bUkXP",
        "colab_type": "code",
        "colab": {}
      },
      "source": [
        "import sys\n",
        "\n",
        "#!rm -r notebook_snippets\n",
        "!git clone https://github.com/hossein20s/notebook_snippets /content/lib\n",
        "!cd /content/lib/; git pull \n",
        "!git clone https://github.com/PAIR-code/facets ./facets\n",
        "!cd ./facets; git pull\n",
        "#sys.path.append('src/facets/facets_overview/python/')\n",
        "sys.path.append(os.path.abspath('./facets/facets_overview/python/'))\n",
        "!jupyter nbextension install facets/facets-dist/\n",
        "#!cd /content/lib/; git config --global user.email \"hossein@vitachain.app\"; git config --global user.name \"hossein20s\"; git checkout d4ee6b1487d0a3d0d14f2299364c56bf0f588dbd\n",
        "#!cd /content/lib/; cat datautil.py\n",
        "sys.path.append('lib')\n",
        "import importlib\n",
        "import datautil\n",
        "import modelutil\n",
        "import plotutil\n",
        "importlib.reload(datautil)\n",
        "importlib.reload(modelutil)\n",
        "importlib.reload(plotutil)\n",
        "from datautil import getGoogleCloudBucket\n",
        "from plotutil import facets_display"
      ],
      "execution_count": 0,
      "outputs": []
    }
  ]
}