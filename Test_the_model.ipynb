{
  "nbformat": 4,
  "nbformat_minor": 0,
  "metadata": {
    "colab": {
      "name": "Test the model.ipynb",
      "version": "0.3.2",
      "provenance": [],
      "include_colab_link": true
    },
    "kernelspec": {
      "name": "python3",
      "display_name": "Python 3"
    }
  },
  "cells": [
    {
      "cell_type": "markdown",
      "metadata": {
        "id": "view-in-github",
        "colab_type": "text"
      },
      "source": [
        "<a href=\"https://colab.research.google.com/github/hossein20s/AnExample/blob/master/Test_the_model.ipynb\" target=\"_parent\"><img src=\"https://colab.research.google.com/assets/colab-badge.svg\" alt=\"Open In Colab\"/></a>"
      ]
    },
    {
      "cell_type": "code",
      "metadata": {
        "id": "8oGv8IR7ZJoc",
        "colab_type": "code",
        "colab": {}
      },
      "source": [
        ""
      ],
      "execution_count": 0,
      "outputs": []
    },
    {
      "cell_type": "code",
      "metadata": {
        "id": "wyeriUcMZW_Z",
        "colab_type": "code",
        "outputId": "97c3f0ea-b027-418a-97e2-86e6a61ce6e5",
        "colab": {
          "base_uri": "https://localhost:8080/",
          "height": 503
        }
      },
      "source": [
        "!wget bit.ly/initnotebook -O init.ipynb\n",
        "%run init.ipynb"
      ],
      "execution_count": 0,
      "outputs": [
        {
          "output_type": "stream",
          "text": [
            "--2019-06-23 03:36:54--  http://bit.ly/initnotebook\n",
            "Resolving bit.ly (bit.ly)... 67.199.248.10, 67.199.248.11\n",
            "Connecting to bit.ly (bit.ly)|67.199.248.10|:80... connected.\n",
            "HTTP request sent, awaiting response... 301 Moved Permanently\n",
            "Location: https://raw.githubusercontent.com/hossein20s/notebook_snippets/master/InitializeNotebook.ipynb [following]\n",
            "--2019-06-23 03:36:54--  https://raw.githubusercontent.com/hossein20s/notebook_snippets/master/InitializeNotebook.ipynb\n",
            "Resolving raw.githubusercontent.com (raw.githubusercontent.com)... 151.101.0.133, 151.101.64.133, 151.101.128.133, ...\n",
            "Connecting to raw.githubusercontent.com (raw.githubusercontent.com)|151.101.0.133|:443... connected.\n",
            "HTTP request sent, awaiting response... 200 OK\n",
            "Length: 2560 (2.5K) [text/plain]\n",
            "Saving to: ‘init.ipynb’\n",
            "\n",
            "\rinit.ipynb            0%[                    ]       0  --.-KB/s               \rinit.ipynb          100%[===================>]   2.50K  --.-KB/s    in 0s      \n",
            "\n",
            "2019-06-23 03:36:54 (48.0 MB/s) - ‘init.ipynb’ saved [2560/2560]\n",
            "\n",
            "Drive already mounted at /gdrive; to attempt to forcibly remount, call drive.mount(\"/gdrive\", force_remount=True).\n",
            "ln: failed to create symbolic link 'models/models': Function not implemented\n",
            "ln: failed to create symbolic link 'data/data': Function not implemented\n",
            "ln: failed to create symbolic link 'checkpoints/checkpoints': Function not implemented\n",
            "ln: failed to create symbolic link 'src/src': Function not implemented\n",
            "ln: failed to create symbolic link 'notebooks/Colab Notebooks': Function not implemented\n",
            "fatal: destination path '/content/lib' already exists and is not an empty directory.\n",
            "Already up to date.\n"
          ],
          "name": "stdout"
        },
        {
          "output_type": "stream",
          "text": [
            "Using TensorFlow backend.\n"
          ],
          "name": "stderr"
        },
        {
          "output_type": "stream",
          "text": [
            "save and load models from yaml and json files defined. Everything stored in folder  <built-in function dir>\n",
            "save and load models from yaml and json files defined. Everything stored in folder  <built-in function dir>\n"
          ],
          "name": "stdout"
        }
      ]
    },
    {
      "cell_type": "code",
      "metadata": {
        "id": "XGGRIdZJZ28m",
        "colab_type": "code",
        "colab": {}
      },
      "source": [
        "config_file = 'data/vital_signs_case01.yaml'\n",
        "import yaml\n",
        "with open(config_file, 'r') as stream:\n",
        "  config = yaml.safe_load(stream)\n",
        "\n",
        "locals().update(config)\n"
      ],
      "execution_count": 0,
      "outputs": []
    },
    {
      "cell_type": "code",
      "metadata": {
        "id": "xoX3RumPbNod",
        "colab_type": "code",
        "outputId": "7f8c48fe-f160-4086-d84d-11273329d4ed",
        "colab": {
          "base_uri": "https://localhost:8080/",
          "height": 269
        }
      },
      "source": [
        "DATA_FILE = SRC_DIR + 'case08.csv'\n",
        "from datautil import data_reader\n",
        "\n",
        "reader = data_reader(DATA_FILE,time_column=time_column, feature_column=feature_column, label_column=label_column, window_size=window_size)\n",
        "\n",
        "X, Y = reader.get_whole()"
      ],
      "execution_count": 17,
      "outputs": [
        {
          "output_type": "stream",
          "text": [
            "Warning: Data passed should be normalized!\n",
            "reading data from file src/ramtin-duplicate/case08.csv\n",
            "Raw data (2983, 54)\n",
            "Dropna with selected columns (2793, 3)\n",
            "before normalize:     RelativeTimeMilliseconds  Minute Volume  NBP (Mean)\n",
            "0                     69000            0.0        82.0\n",
            "1                     70000            0.0        82.0\n",
            "after normalize:     RelativeTimeMilliseconds  Minute Volume  NBP (Mean)\n",
            "0                 -0.495131      -0.566251    0.324496\n",
            "1                 -0.494813      -0.566251    0.324496\n",
            "processing sliding window\n",
            "label_column: NBP (Mean)\n",
            "feature_column: Minute Volume\n",
            "Random shuffeling\n"
          ],
          "name": "stdout"
        }
      ]
    },
    {
      "cell_type": "code",
      "metadata": {
        "id": "lCsZ4px9fP8R",
        "colab_type": "code",
        "colab": {
          "base_uri": "https://localhost:8080/",
          "height": 89
        },
        "outputId": "9f3e18cc-59b0-4b23-92a0-66d751abcd50"
      },
      "source": [
        "from modelutil import load_model_yaml\n",
        "\n",
        "model = load_model_yaml(CHECKPOINTS_DIR, model_name, epoch=400)\n",
        "model.compile(optimizer='adam', loss='mse', metrics=['mae'])\n"
      ],
      "execution_count": 15,
      "outputs": [
        {
          "output_type": "stream",
          "text": [
            "load model from file checkpoints/model.lstmconv1D.yaml\n"
          ],
          "name": "stdout"
        },
        {
          "output_type": "stream",
          "text": [
            "W0623 04:04:40.004082 140573216671616 deprecation_wrapper.py:119] From /usr/local/lib/python3.6/dist-packages/keras/optimizers.py:790: The name tf.train.Optimizer is deprecated. Please use tf.compat.v1.train.Optimizer instead.\n",
            "\n"
          ],
          "name": "stderr"
        },
        {
          "output_type": "stream",
          "text": [
            "loading weights from  checkpoints/model.lstmconv1D.epoch400.h5\n"
          ],
          "name": "stdout"
        }
      ]
    },
    {
      "cell_type": "code",
      "metadata": {
        "id": "uI72c2KNg0V_",
        "colab_type": "code",
        "colab": {
          "base_uri": "https://localhost:8080/",
          "height": 269
        },
        "outputId": "f8394c34-df5c-4a89-fd4a-bafb86d2ec6e"
      },
      "source": [
        "predicted = model.predict(X)\n",
        "\n",
        "import matplotlib.pyplot as plt\n",
        "plt.plot(predicted, 'r')\n",
        "plt.plot(Y, 'b')\n",
        "plt.show()"
      ],
      "execution_count": 18,
      "outputs": [
        {
          "output_type": "display_data",
          "data": {
            "image/png": "[encoded data removed]",
            "text/plain": [
              "<Figure size 432x288 with 1 Axes>"
            ]
          },
          "metadata": {
            "tags": []
          }
        }
      ]
    }
  ]
}